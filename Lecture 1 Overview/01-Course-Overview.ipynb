{
 "cells": [
  {
   "cell_type": "markdown",
   "id": "acf9673a",
   "metadata": {
    "slideshow": {
     "slide_type": "slide"
    }
   },
   "source": [
    "# Machine Learning: Foundations and Applications\n",
    "## Lecture 1: Course Introduction and Building Your First Model\n",
    "\n",
    "**Approach:** Learn by building, understand through practice\n"
   ]
  },
  {
   "cell_type": "markdown",
   "id": "548397a9",
   "metadata": {
    "slideshow": {
     "slide_type": "slide"
    }
   },
   "source": [
    "## Welcome to Machine Learning\n",
    "\n",
    "### Your Instructor\n",
    "**Ming Jin** - Optimization and Machine Learning Research Lab\n",
    "- Research focus: **Trustworthy AI and Safety**\n",
    "- Goal: Building AI systems that align with human values and operate reliably\n",
    "\n",
    "### Your TA\n",
    "**Kamal** - Applied Machine Learning\n",
    "- Focus on practical implementation and deployment"
   ]
  },
  {
   "cell_type": "markdown",
   "id": "a2654072",
   "metadata": {
    "slideshow": {
     "slide_type": "slide"
    }
   },
   "source": [
    "## Course Learning Objectives\n",
    "\n",
    "### By End of Semester:\n",
    "1. **Build and Deploy** - Implement real ML systems from scratch\n",
    "2. **Understand Fundamentals** - Master core principles behind modern AI/ML\n",
    "3. **Consider Safety** - Evaluate robustness, fairness, and alignment\n",
    "4. **Create Portfolio** - Develop 3 research-quality projects\n",
    "\n",
    "### Core Philosophy:\n",
    "**\"Understanding through implementation, theory through practice\"**"
   ]
  },
  {
   "cell_type": "markdown",
   "id": "ae696d87",
   "metadata": {
    "slideshow": {
     "slide_type": "slide"
    }
   },
   "source": [
    "## A Contemporary Approach to Machine Learning\n",
    "\n",
    "### Our Focus Areas:\n",
    "- **Foundation Models** - From classical ML to modern transformers\n",
    "- **Safety & Alignment** - Building reliable and trustworthy systems\n",
    "- **Practical Deployment** - Real applications with real constraints\n",
    "- **Ethical Considerations** - Understanding societal impact\n",
    "\n",
    "### Method: Interactive Notebooks\n",
    "- All code is reproducible and documented\n",
    "- Theory integrated with implementation\n",
    "- Build working systems from day one"
   ]
  },
  {
   "cell_type": "markdown",
   "id": "01d8922f",
   "metadata": {
    "slideshow": {
     "slide_type": "slide"
    }
   },
   "source": [
    "## Today's Schedule\n",
    "\n",
    "1. **Welcome and Introduction**  \n",
    "2. **Hands-on: Fine-tuning a Language Model**  \n",
    "3. **Course Logistics**  \n",
    "\n",
    "Let's begin with practical implementation.\n"
   ]
  },
  {
   "cell_type": "markdown",
   "id": "accb328e",
   "metadata": {},
   "source": [
    "\n",
    "# Building an AI Assistant: Pet Shop Customer Service\n",
    "\n",
    "## Learning Through Implementation\n",
    "\n",
    "### What We'll Build:\n",
    "A specialized assistant using **Gemma-3-270m** fine-tuned for pet care domain\n",
    "\n",
    "### Concepts We'll Explore:\n",
    "- **Supervised Learning** - Training with labeled examples\n",
    "- **Semi-Supervised Learning** - Leveraging unlabeled data\n",
    "- **Weak Supervision** - Using heuristics and rules\n",
    "- **Active Learning** - Strategic data selection\n",
    "- **Model Alignment** - Ensuring safe and helpful responses\n",
    "\n",
    "### Approach:\n",
    "Execute first, analyze behavior, then understand principles"
   ]
  },
  {
   "cell_type": "markdown",
   "id": "c46253d4",
   "metadata": {},
   "source": [
    "\n",
    "## Course Logistics\n",
    "\n",
    "### 📍 Course Resources and Platforms\n",
    "\n",
    "- **Canvas** - Primary Course Hub\n",
    "  - All assignments and submissions\n",
    "  - Grades and feedback\n",
    "  - Official announcements\n",
    "\n",
    "- **Piazza** - Discussion Forum\n",
    "  - Technical questions (post publicly for faster response)\n",
    "  - Collaboration with classmates\n",
    "  - Participation credit for helpful contributions\n",
    "\n",
    "- **GitHub** - Code Repository\n",
    "  - All course notebooks and materials: https://github.com/jinming99/learn-ml-by-building\n",
    "  - Your project portfolio\n",
    "  - Version control for assignments"
   ]
  },
  {
   "cell_type": "markdown",
   "id": "a11dc06e",
   "metadata": {},
   "source": [
    "### Evaluation Components\n",
    "\n",
    "| Component | Weight | Description |\n",
    "|-----------|--------|-------------|\n",
    "| **Problem Sets** | 32% | 5 assignments: Theory + Implementation + Application |\n",
    "| **Projects** | 30% | 3 research-style papers (3-6 pages each) |\n",
    "| **Participation** | 6% | Attendance and forum contributions |\n",
    "| **Bonus** | +2% | Lecture notes, demonstrations |\n",
    "\n",
    "**Philosophy:** Continuous assessment rather than high-stakes exams"
   ]
  },
  {
   "cell_type": "markdown",
   "id": "31f8fdae",
   "metadata": {},
   "source": [
    "## 📂 Your ML Portfolio: Three Major Projects\n",
    "\n",
    "### Project 1: Foundational Methods (Weeks 1-6)\n",
    "- Implement and analyze core ML algorithms\n",
    "- Focus on evaluation metrics and failure modes\n",
    "- Address bias, fairness, and robustness\n",
    "\n",
    "### Project 2: Deep Learning Applications (Weeks 7-11)\n",
    "- Neural architectures for vision and language\n",
    "- Attention mechanisms and transformers\n",
    "- Interpretability and alignment techniques\n",
    "\n",
    "### Project 3: Advanced Topics (Weeks 12-15)\n",
    "Choose one:\n",
    "- Reinforcement Learning (Agent-based systems)\n",
    "- Generative Models (Creation and control)\n",
    "- Safety Research (Novel contributions)\n",
    "\n",
    "**Format:** Research paper format with code appendix\n",
    "**Outcome:** Professional portfolio demonstrating competence\n"
   ]
  },
  {
   "cell_type": "markdown",
   "id": "76d205e1",
   "metadata": {},
   "source": [
    "\n",
    "## 🎓 Additional Learning Opportunities\n",
    "\n",
    "### \"Explain ML Simply\" Video Series\n",
    "- Select a course concept\n",
    "- Create 3-5 minute educational video\n",
    "- Include interactive demonstrations\n",
    "- Best submissions presented in class\n",
    "- Develops communication skills\n",
    "\n",
    "### Safety Evaluations\n",
    "- Analyze failure modes in peer projects\n",
    "- Propose robustness improvements\n",
    "- Learn through constructive critique\n",
    "\n",
    "### Industry Connections\n",
    "- Guest lectures from researchers\n",
    "- Real-world case studies\n",
    "- Career pathway discussions"
   ]
  },
  {
   "cell_type": "markdown",
   "id": "e8214430",
   "metadata": {},
   "source": [
    "\n",
    "## 💻 Learning Environment\n",
    "\n",
    "### During Class:\n",
    "- **Laptops:** Essential for following along with code\n",
    "- **Questions:** Encouraged at any time\n",
    "- **Experimentation:** Modify code and observe results\n",
    "\n",
    "### Outside Class:\n",
    "- **Office Hours:** Schedule via Piazza poll\n",
    "- **Collaboration:** Study groups encouraged\n",
    "- **Academic Integrity:** Your code, your understanding\n",
    "\n",
    "*\"Active participation accelerates learning\"*\n"
   ]
  },
  {
   "cell_type": "markdown",
   "id": "4f472ea2",
   "metadata": {},
   "source": [
    "## Preparation and Next Steps\n",
    "\n",
    "### Before Next Class:\n",
    "\n",
    "1. **Environment Setup**\n",
    "   - Complete **\"ML_Environment_Setup.ipynb\"**\n",
    "   - Approximately 30 minutes\n",
    "   - Ensures all tools are properly configured\n",
    "\n",
    "2. **Course Registration**\n",
    "   - Join Piazza (link on Canvas)\n",
    "   - Access GitHub repository\n",
    "   - Review Homework 1 (posted end of week)\n",
    "\n",
    "3. **Next Topic: k-Nearest Neighbors**\n",
    "   - Instance-based learning\n",
    "   - Similarity metrics\n",
    "   - Practical applications in recommendation systems"
   ]
  },
  {
   "cell_type": "markdown",
   "id": "6516121d",
   "metadata": {},
   "source": [
    "\n",
    "## 🎯 Looking Ahead\n",
    "\n",
    "### Why This Course Matters\n",
    "- ML is transforming every field\n",
    "- Responsible development requires deep understanding\n",
    "- Your work will impact real people and systems\n",
    "\n",
    "### Our Commitment\n",
    "- Rigorous technical foundation\n",
    "- Practical implementation skills\n",
    "- Ethical considerations throughout\n",
    "\n",
    "### Wednesday's Class:\n",
    "k-Nearest Neighbors - Your first complete ML algorithm\n"
   ]
  }
 ],
 "metadata": {
  "celltoolbar": "Slideshow",
  "kernelspec": {
   "display_name": "Python (ml_lectures_env)",
   "language": "python",
   "name": "ml_lectures_env"
  },
  "language_info": {
   "codemirror_mode": {
    "name": "ipython",
    "version": 3
   },
   "file_extension": ".py",
   "mimetype": "text/x-python",
   "name": "python",
   "nbconvert_exporter": "python",
   "pygments_lexer": "ipython3",
   "version": "3.9.6"
  }
 },
 "nbformat": 4,
 "nbformat_minor": 5
}
